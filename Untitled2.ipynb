{
 "cells": [
  {
   "cell_type": "code",
   "execution_count": 2,
   "id": "640de508-5b5a-465a-bd28-7db92f0685ea",
   "metadata": {},
   "outputs": [],
   "source": [
    "import pathlib"
   ]
  },
  {
   "cell_type": "code",
   "execution_count": 3,
   "id": "da916ed3-c82c-4891-b50b-e7d2d445fa80",
   "metadata": {},
   "outputs": [],
   "source": [
    "a = pathlib.Path(\"D:\\data_output\\steps_lowpower_3s_steps\")\n",
    "folder_name = a.name"
   ]
  },
  {
   "cell_type": "code",
   "execution_count": 4,
   "id": "8cef4df7-8673-45bb-9d84-e84da5c42bba",
   "metadata": {},
   "outputs": [
    {
     "name": "stdout",
     "output_type": "stream",
     "text": [
      "True\n",
      "True\n",
      "False\n"
     ]
    }
   ],
   "source": [
    "for i in a.glob('*'):\n",
    "    print(i.is_file())"
   ]
  },
  {
   "cell_type": "code",
   "execution_count": 5,
   "id": "800103b3-99b4-4980-9ea2-39fbd42c1e5d",
   "metadata": {},
   "outputs": [
    {
     "data": {
      "text/plain": [
       "[WindowsPath('D:/data_output/20220405'),\n",
       " WindowsPath('D:/data_output/asdasdasd'),\n",
       " WindowsPath('D:/data_output/Copies of nice Suite2p just in case'),\n",
       " WindowsPath('D:/data_output/steps_lowpower_3s_steps'),\n",
       " WindowsPath('D:/data_output/suite2p_'),\n",
       " WindowsPath('D:/data_output/suite2p_0'),\n",
       " WindowsPath('D:/data_output/Testing')]"
      ]
     },
     "execution_count": 5,
     "metadata": {},
     "output_type": "execute_result"
    }
   ],
   "source": [
    "sorted(a.parent.glob('*'))"
   ]
  },
  {
   "cell_type": "code",
   "execution_count": 8,
   "id": "4e343e2e-8a48-413b-b680-cf0a7c479846",
   "metadata": {},
   "outputs": [
    {
     "name": "stdout",
     "output_type": "stream",
     "text": [
      "[]\n",
      "[]\n",
      "[]\n",
      "[WindowsPath('D:/data_output/steps_lowpower_3s_steps/steps_lowpower_3s_steps.npy')]\n",
      "[]\n",
      "[]\n",
      "[]\n"
     ]
    }
   ],
   "source": [
    "for folder in a.parent.glob('*'):\n",
    "    print(sorted(folder.glob(f\"{folder_name}.npy\")))"
   ]
  },
  {
   "cell_type": "code",
   "execution_count": null,
   "id": "22bdf096-07a0-432d-878e-6d43cba1eaaf",
   "metadata": {},
   "outputs": [],
   "source": []
  }
 ],
 "metadata": {
  "kernelspec": {
   "display_name": "Python 3 (ipykernel)",
   "language": "python",
   "name": "python3"
  },
  "language_info": {
   "codemirror_mode": {
    "name": "ipython",
    "version": 3
   },
   "file_extension": ".py",
   "mimetype": "text/x-python",
   "name": "python",
   "nbconvert_exporter": "python",
   "pygments_lexer": "ipython3",
   "version": "3.9.7"
  }
 },
 "nbformat": 4,
 "nbformat_minor": 5
}
