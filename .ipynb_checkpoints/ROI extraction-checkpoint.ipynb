{
 "cells": [
  {
   "cell_type": "markdown",
   "id": "eb19d22f-0d0a-4724-95b9-06ec3ebdbdff",
   "metadata": {},
   "source": [
    "# ROI segmentation, data extraction, pre-processing, and data storage"
   ]
  },
  {
   "cell_type": "code",
   "execution_count": 1,
   "id": "8678cfe4-7e34-459f-9e29-b0ca03c468f3",
   "metadata": {
    "tags": []
   },
   "outputs": [],
   "source": [
    "import suite2p\n",
    "import pathlib\n",
    "import tifffile\n",
    "import numpy as np\n",
    "# Local imports\n",
    "import pipeline_core\n",
    "import pathlib\n",
    "import os\n",
    "import pickle\n",
    "\n",
    "# ipywidgets\n",
    "from __future__ import print_function\n",
    "from ipywidgets import interact, interactive, fixed, interact_manual, Button, HBox, VBox, Layout, Box, Label, interact, interactive, fixed, interact_manual\n",
    "from IPython.display import display\n",
    "import ipywidgets as widgets\n",
    "from ipyfilechooser import FileChooser"
   ]
  },
  {
   "cell_type": "code",
   "execution_count": 2,
   "id": "61241f9a-34d1-46f2-8a39-6312def167b1",
   "metadata": {
    "tags": []
   },
   "outputs": [],
   "source": [
    "# Setup ipywidgets as needed\n",
    "\n",
    "## Input options\n",
    "choose_input = FileChooser()\n",
    "if pathlib.Path(r\"D:/data_output/\").exists() is True:\n",
    "    choose_input.default_path = r\"D:/data_input\"\n",
    "else:\n",
    "    choose_input.default_path = pathlib.Path.home()\n",
    "choose_input.title = \"<b>Select input folder containing Igor files from experiments<b>\"\n",
    "choose_input.show_only_dirs = False\n",
    "choose_input._show_dialog()\n",
    "\n",
    "## Output options\n",
    "choose_output = FileChooser()\n",
    "if pathlib.Path(r\"D:/data_output/\").exists() is True:\n",
    "    choose_output.default_path = r\"D:/data_output/\"\n",
    "else:\n",
    "    choose_output.default_path = pathlib.Path.home()\n",
    "choose_output.title = \"<b>Select folder for analysis to output to<b>\"\n",
    "choose_output.show_only_dirs = False\n",
    "choose_output._show_dialog()\n",
    "\n",
    "## Select ops file\n",
    "choose_ops = FileChooser()\n",
    "# choose_ops.default_path = pathlib.Path.home()\n",
    "choose_ops.default_path = pathlib.Path.home().joinpath(r\"OneDrive\\Universitet\\PhD\\Suite2p\\Ops\")\n",
    "choose_ops.title = \"<b>Optional:<b> Select ops file\"\n",
    "choose_ops.show_only_dirs = False\n",
    "# choose_ops._show_dialog()\n",
    "\n",
    "## Select classifier file\n",
    "choose_classifier = FileChooser()\n",
    "# choose_classifier.default_path = pathlib.Path.home().joinpath\n",
    "choose_classifier.default_path = pathlib.Path.home().joinpath(r\"OneDrive\\Universitet\\PhD\\Suite2p\\Classifiers\")\n",
    "choose_classifier.title = \"<b>Optional:<b> Select classifier file\"\n",
    "choose_classifier.show_only_dirs = False\n",
    "# choose_classifier._show_dialog()\n",
    "\n",
    "## Dropdown for selecting resolution (x_res determines appropriate cropping factor from LUT in Import_Igor.py) \n",
    "x_res_select = widgets.Dropdown( # Determines removal of balnking artifact\n",
    "    options=['128', '256', '512', 'likely_fine', 'no_crop'],\n",
    "    value= '128',\n",
    "    description='X pix:',\n",
    "    style= {'description_width': 'initial'},\n",
    "    layout = Layout(width='auto')\n",
    ")\n",
    "y_res_select = widgets.Dropdown( # Currently no real effect, just handy to pass to experiment obj for documentation!\n",
    "    options=['64', '128', '256', '512'],\n",
    "    value= '64',\n",
    "    description='Y pix:',\n",
    "    style= {'description_width': 'initial'},\n",
    "    layout = Layout(width='auto')\n",
    ")\n",
    "\n",
    "## Dropdown for selecting line_duration\n",
    "line_duration_selection = widgets.Dropdown(\n",
    "    options=[('1ms', 0.001), ('1.956ms', 0.01956), ('2ms', 0.002)],\n",
    "    value= 0.001,\n",
    "    description='Line duration:',\n",
    ")\n",
    "\n",
    "## Dropdown for selecting trigger percision (linked to ___ script in _______) \n",
    "trigger_precision_selection = widgets.Dropdown(\n",
    "    options=[('Line precision', 'Line'), ('Frame precision', 'Frame')],\n",
    "    value= 'Line',\n",
    "    description='Trigger precision:',\n",
    "    style= {'description_width': 'initial'}\n",
    "    # layout = Layout(width='auto')\n",
    ")\n",
    "\n",
    "## Text box for naming new folder\n",
    "name_box = widgets.Text(\n",
    "    value='',\n",
    "    placeholder='Name new experiment folder',\n",
    "    description='Experiment name',\n",
    "    style = {'description_width': 'initial'},\n",
    "    disabled=False,\n",
    ")\n",
    "\n",
    "## Button for running analysis\n",
    "button = widgets.Button(\n",
    "    description='Run pipeline',\n",
    "    disabled=False,\n",
    "    button_style='', # 'success', 'info', 'warning', 'danger' or ''\n",
    "    tooltip='Executes analysis pipeline',\n",
    "    icon='check', # (FontAwesome names without the `fa-` prefix)\n",
    "    # layout = Layout(\n",
    "    #          display='flex')\n",
    ")\n",
    "\n",
    "## Text box for experiment notes\n",
    "notes_box = widgets.Textarea(\n",
    "    value='',\n",
    "    # placeholder='Type notes here',\n",
    "    placeholder='NOT CURRENTLY WORKING',\n",
    "    description='Experiment notes:',\n",
    "    style = {'description_width': 'initial'},\n",
    "    disabled=False,\n",
    "    layout = Layout(\n",
    "        height = '50px',\n",
    "        min_height = '25px',\n",
    "        width = '500px'\n",
    "        )\n",
    ")\n",
    "\n",
    "## Checbox for skipping Suite2p pipeline\n",
    "skip_2p = widgets.Checkbox(\n",
    "    value=False,\n",
    "    description='Skip Suite2p? (Only file conversion)',\n",
    "    style = {'description_width': 'initial'},\n",
    "    disabled=False,\n",
    "    indent=False\n",
    ")\n",
    "\n",
    "## Checbox for skipping object creation and saving\n",
    "skip_obj = widgets.Checkbox(\n",
    "    value=False,\n",
    "    description='Skip Experiment-object creation?',\n",
    "    style = {'description_width': 'initial'},\n",
    "    disabled=False,\n",
    "    indent=False\n",
    ")\n",
    "\n",
    "## Drop down menue for resetting file options\n",
    "reset_dropdown = widgets.Dropdown(\n",
    "    options=['1', '2', '3'],\n",
    "    value='2',\n",
    "    description='Number:',\n",
    "    disabled=False,\n",
    ")\n",
    "\n",
    "## Give container the right layout to be able to wrap\n",
    "Hbox_layout = Layout(\n",
    "                display = 'flex',\n",
    "                flex_flow = 'row wrap',\n",
    "                # flex_direction = 'row',\n",
    "                # flex='flex-shrink',\n",
    "                # flex_wrap = 'wrap',\n",
    "                justify_content = 'flex-start',\n",
    "                align_items = 'stretch',\n",
    ")\n",
    "\n",
    "## Text box for ignoring first N frames\n",
    "ignore_first_N_frames = widgets.IntText(\n",
    "    value=1,\n",
    "    description='Ignore first N frames:',\n",
    "    disabled=False\n",
    ")"
   ]
  },
  {
   "cell_type": "code",
   "execution_count": 11,
   "id": "a5e40851-f872-425a-af35-5d5470f16875",
   "metadata": {
    "tags": []
   },
   "outputs": [],
   "source": [
    "def reset_chosen_panel(panel):\n",
    "    panel.reset\n",
    "    \n",
    "# useful_kwargs_to_pass:\n",
    "#     {\n",
    "#     \"lindeduration\" : 0.001956 \n",
    "#     }\n",
    "    \n",
    "## Ensures correct parameters are set and then executes the rest!\n",
    "def verify_choice():\n",
    "    def run_scripts(): ## This should move to main.py eventually. \n",
    "        print(input_folder)\n",
    "        print(output_folder)\n",
    "        if skip_2p.value is False:\n",
    "            # This is the function that runs the data extraction pipeline:\n",
    "            pipeline_core.extract_singleplane(input_folder, \n",
    "                                         output_folder, \n",
    "                                         crop, \n",
    "                                         path_of_ops = selected_ops_path, \n",
    "                                         path_of_classifier = selected_classifier_path,\n",
    "                                         ignore_first_X_frames = ignore_first_N_frames.value)\n",
    "        else:\n",
    "            print(\"Skipping Suite2p portion of pipeline.\")\n",
    "            #If the user wishes to skip Suite2p portion of pipeline, they can simply call some lower-level functions for getting tiffs and creating a file hierarchy. \n",
    "            pipeline_core.gen_tiffs_from_igor(input_folder, output_folder, crop, ignore_first_X_frames = ignore_first_N_frames.value)\n",
    "            pipeline_core.prep_file_hierarchy(output_folder)\n",
    "        if skip_obj.value is False:\n",
    "            print(\"Building Experiment-object.\")\n",
    "            obj = pipeline_core.Experiment(\n",
    "                    output_folder, \n",
    "                    averages = True, \n",
    "                    mode = 30, \n",
    "                    line_duration = line_duration_selection.value, \n",
    "                    x_res = x_res_select.value, \n",
    "                    y_res = y_res_select.value) #kwargs could easily be made into GUI items --> Work in progress... \n",
    "            obj_save_location = output_folder.joinpath(f\"{output_folder.name}.pickle\")\n",
    "            print(f\"Experiment object built, storing as {obj_save_location}\")\n",
    "            with open(obj_save_location, 'wb') as f:\n",
    "                pickle.dump(obj, f)\n",
    "    if None in (choose_input.selected, choose_output.selected):\n",
    "        # If only output folder is selected, run Suite2p or object creation only on that folder (skipping input phase)\n",
    "        if choose_input.selected == None and choose_output.selected != None:\n",
    "            if pathlib.Path(choose_output.selected).joinpath(\"suite2p\").exists() is True:\n",
    "                output_folder = pathlib.Path(choose_output.selected).joinpath(name_box.value)\n",
    "                pass_data = {\"data_path\": [str(output_folder)], \n",
    "                            \"classifier_path\" : choose_classifier.selected}\n",
    "                ops = np.load(choose_ops.selected, allow_pickle=True)\n",
    "                ops = ops.item()\n",
    "                pipeline_core.run_suite2p(ops = ops, db = pass_data)\n",
    "        else:\n",
    "            print(\"Inputs lacking\")\n",
    "    else:\n",
    "        input_folder = pathlib.Path(choose_input.selected)\n",
    "        output_folder = pathlib.Path(choose_output.selected).joinpath(name_box.value)\n",
    "        selected_ops_path = choose_ops.selected #Pathlib breaks this\n",
    "        selected_classifier_path = choose_classifier.selected\n",
    "        crop = int(x_res_select.value)\n",
    "        print(f\"Are you sure you want to run pipeline on {input_folder} and output to {output_folder}?\")\n",
    "        print(f\" - X-axis cropped for resolution: {crop} (correcting for blanking artefact)\")\n",
    "        print(f\" - Ignoring first N frames: {ignore_first_N_frames.value}\")\n",
    "        if skip_2p.value is True:\n",
    "            print(\"Skipping Suite2p. Only executing file conversion and hierarchy organisation.\")\n",
    "        else:\n",
    "            if selected_classifier_path != None:\n",
    "                print(f\"Current classifier is: {selected_classifier_path}\")\n",
    "            if selected_ops_path != None:\n",
    "                print(f\"Current ops is: {selected_ops_path}\")\n",
    "                \n",
    "    interact_manual(run_scripts)"
   ]
  },
  {
   "cell_type": "markdown",
   "id": "f83b8c7b-599f-46cf-810f-d5223d3de23b",
   "metadata": {
    "tags": []
   },
   "source": [
    "## 1 I/O and Suite2p pipeline \n",
    "### 1.1 Control panel for data extraction\n",
    "Does the following steps: \n",
    "- Select input Igor binaries and output folder, including creating of new folder if needed\n",
    "- Transform that data to .tiffs and crop depending on needs/wants\n",
    "- Run Suite2p analysis, with optional ops and classifier configurations. \n",
    "    - This step can be skipped (check box below). In case where Suite2p has already been ran, script will throw an error to prevent accidental data-overwriting. However, in some instances, you may want to run the following steps on Suite2p folders that already exist. In this case, you can check the 'Skip Suite2p' box. The script will then attempt to do file conversion, and then create the required Python object file. \n",
    "- TODO: Plot immediate results \n",
    "- Generate Python object and simultaneously (but optionally) generate per-cell avearges"
   ]
  },
  {
   "cell_type": "code",
   "execution_count": 12,
   "id": "2b83eae2-9766-496c-a1a8-5089a8926933",
   "metadata": {
    "tags": []
   },
   "outputs": [
    {
     "data": {
      "application/vnd.jupyter.widget-view+json": {
       "model_id": "48c45741eb53461d9a37bd241e5ea0db",
       "version_major": 2,
       "version_minor": 0
      },
      "text/plain": [
       "HBox(children=(FileChooser(path='D:\\data_input', filename='', title='<b>Select input folder containing Igor fi…"
      ]
     },
     "metadata": {},
     "output_type": "display_data"
    },
    {
     "data": {
      "application/vnd.jupyter.widget-view+json": {
       "model_id": "0919c2b0789146c58a5a3fd9ab7aeab9",
       "version_major": 2,
       "version_minor": 0
      },
      "text/plain": [
       "HBox(children=(Dropdown(description='X pix:', layout=Layout(width='auto'), options=('128', '256', '512', 'like…"
      ]
     },
     "metadata": {},
     "output_type": "display_data"
    },
    {
     "data": {
      "application/vnd.jupyter.widget-view+json": {
       "model_id": "73e846c98ed9412396e14446c0b67f81",
       "version_major": 2,
       "version_minor": 0
      },
      "text/plain": [
       "HBox(children=(Checkbox(value=False, description='Skip Suite2p? (Only file conversion)', indent=False, style=D…"
      ]
     },
     "metadata": {},
     "output_type": "display_data"
    }
   ],
   "source": [
    "## Generate GUI for selecting input/output options\n",
    "first_row  = HBox([choose_input, choose_output, choose_ops, choose_classifier], layout = Hbox_layout)\n",
    "second_row = HBox([x_res_select, y_res_select, line_duration_selection, trigger_precision_selection, name_box, ignore_first_N_frames], layout = Hbox_layout)\n",
    "third_row = HBox([skip_2p, skip_obj, notes_box], layout = Hbox_layout)\n",
    "display(first_row, second_row, third_row)"
   ]
  },
  {
   "cell_type": "markdown",
   "id": "85638f3b-dfbf-4578-9bd7-30c7f1256d97",
   "metadata": {},
   "source": [
    "### 1.2 Verify selection\n",
    "Once happy with settings, please run the below cell to verify your inputs and run the analyiss (click \"Run Interact\" below)."
   ]
  },
  {
   "cell_type": "code",
   "execution_count": 13,
   "id": "7a3ec5d6-e40a-4b1c-b9ca-8a6cef074c4d",
   "metadata": {
    "tags": []
   },
   "outputs": [
    {
     "data": {
      "application/vnd.jupyter.widget-view+json": {
       "model_id": "7b1aca11b7174e8a836bcc8252a4b8a7",
       "version_major": 2,
       "version_minor": 0
      },
      "text/plain": [
       "interactive(children=(Button(description='Run Interact', style=ButtonStyle()), Output()), _dom_classes=('widge…"
      ]
     },
     "metadata": {},
     "output_type": "display_data"
    }
   ],
   "source": [
    "verify_choice()"
   ]
  },
  {
   "cell_type": "code",
   "execution_count": 33,
   "id": "6a115017-3d85-4477-85bc-7ebc8670f7f8",
   "metadata": {},
   "outputs": [
    {
     "data": {
      "text/plain": [
       "[<matplotlib.lines.Line2D at 0x19af4e0c520>]"
      ]
     },
     "execution_count": 33,
     "metadata": {},
     "output_type": "execute_result"
    },
    {
     "data": {
      "image/png": "[encoded data removed]",
      "text/plain": [
       "<Figure size 432x288 with 1 Axes>"
      ]
     },
     "metadata": {
      "needs_background": "light"
     },
     "output_type": "display_data"
    }
   ],
   "source": [
    "a = np.load(r\"D:\\data_output\\sanity check\\nat_mono_2Hz_0\\nat_mono_2Hz_line_res.npy\")\n",
    "import matplotlib.pyplot as plt\n",
    "plt.plot(a)"
   ]
  },
  {
   "cell_type": "markdown",
   "id": "c7ab065a-5a75-4fc6-bc4f-462f407c3ba5",
   "metadata": {},
   "source": [
    "# TODO: Rebuild experiment and pickle it again (if changes are made)"
   ]
  },
  {
   "cell_type": "code",
   "execution_count": 6,
   "id": "4fcf098e-18fa-439a-a1dc-2931f17fbe7a",
   "metadata": {
    "collapsed": true,
    "jupyter": {
     "outputs_hidden": true
    },
    "tags": []
   },
   "outputs": [
    {
     "ename": "FileNotFoundError",
     "evalue": "[Errno 2] No such file or directory: 'C:\\\\Users\\\\Simen\\\\Desktop\\\\test_output\\\\w_classifier_n_ops_test_app\\\\w_classifier_n_ops_test_app.pickle'",
     "output_type": "error",
     "traceback": [
      "\u001b[1;31m---------------------------------------------------------------------------\u001b[0m",
      "\u001b[1;31mFileNotFoundError\u001b[0m                         Traceback (most recent call last)",
      "Input \u001b[1;32mIn [6]\u001b[0m, in \u001b[0;36m<cell line: 3>\u001b[1;34m()\u001b[0m\n\u001b[0;32m      1\u001b[0m file_name \u001b[38;5;241m=\u001b[39m \u001b[38;5;124mr\u001b[39m\u001b[38;5;124m\"\u001b[39m\u001b[38;5;124mC:\u001b[39m\u001b[38;5;124m\\\u001b[39m\u001b[38;5;124mUsers\u001b[39m\u001b[38;5;124m\\\u001b[39m\u001b[38;5;124mSimen\u001b[39m\u001b[38;5;124m\\\u001b[39m\u001b[38;5;124mDesktop\u001b[39m\u001b[38;5;124m\\\u001b[39m\u001b[38;5;124mtest_output\u001b[39m\u001b[38;5;124m\\\u001b[39m\u001b[38;5;124mw_classifier_n_ops_test_app\u001b[39m\u001b[38;5;124m\\\u001b[39m\u001b[38;5;124mw_classifier_n_ops_test_app.pickle\u001b[39m\u001b[38;5;124m\"\u001b[39m\n\u001b[1;32m----> 3\u001b[0m \u001b[38;5;28;01mwith\u001b[39;00m \u001b[38;5;28;43mopen\u001b[39;49m\u001b[43m(\u001b[49m\u001b[43mfile_name\u001b[49m\u001b[43m,\u001b[49m\u001b[43m \u001b[49m\u001b[38;5;124;43m\"\u001b[39;49m\u001b[38;5;124;43mrb\u001b[39;49m\u001b[38;5;124;43m\"\u001b[39;49m\u001b[43m)\u001b[49m \u001b[38;5;28;01mas\u001b[39;00m input_file:\n\u001b[0;32m      4\u001b[0m     obj \u001b[38;5;241m=\u001b[39m pickle\u001b[38;5;241m.\u001b[39mload(input_file)\n",
      "\u001b[1;31mFileNotFoundError\u001b[0m: [Errno 2] No such file or directory: 'C:\\\\Users\\\\Simen\\\\Desktop\\\\test_output\\\\w_classifier_n_ops_test_app\\\\w_classifier_n_ops_test_app.pickle'"
     ]
    }
   ],
   "source": [
    "file_name = r\"C:\\Users\\Simen\\Desktop\\test_output\\w_classifier_n_ops_test_app\\w_classifier_n_ops_test_app.pickle\"\n",
    "\n",
    "with open(file_name, \"rb\") as input_file:\n",
    "    obj = pickle.load(input_file)"
   ]
  },
  {
   "cell_type": "code",
   "execution_count": 16,
   "id": "fdcb5ca7-b4dd-4e5c-bfcc-43cc5128b96c",
   "metadata": {},
   "outputs": [
    {
     "data": {
      "text/plain": [
       "['__class__',\n",
       " '__delattr__',\n",
       " '__dict__',\n",
       " '__dir__',\n",
       " '__doc__',\n",
       " '__eq__',\n",
       " '__format__',\n",
       " '__ge__',\n",
       " '__getattribute__',\n",
       " '__gt__',\n",
       " '__hash__',\n",
       " '__init__',\n",
       " '__init_subclass__',\n",
       " '__le__',\n",
       " '__lt__',\n",
       " '__module__',\n",
       " '__ne__',\n",
       " '__new__',\n",
       " '__reduce__',\n",
       " '__reduce_ex__',\n",
       " '__repr__',\n",
       " '__setattr__',\n",
       " '__sizeof__',\n",
       " '__slotnames__',\n",
       " '__str__',\n",
       " '__subclasshook__',\n",
       " '__weakref__',\n",
       " 'avgs',\n",
       " 'cell_numbers',\n",
       " 'directory',\n",
       " 'folder_content',\n",
       " 'frames',\n",
       " 'fs',\n",
       " 'iscells',\n",
       " 'names',\n",
       " 'notes',\n",
       " 'number_of_planes',\n",
       " 'ops',\n",
       " 'panda',\n",
       " 'plane_paths',\n",
       " 'spks',\n",
       " 'stats',\n",
       " 'trigs']"
      ]
     },
     "execution_count": 16,
     "metadata": {},
     "output_type": "execute_result"
    }
   ],
   "source": [
    "dir(obj)"
   ]
  },
  {
   "cell_type": "code",
   "execution_count": 15,
   "id": "7a2add0e-5bb4-4ddc-9bfc-9bcbe8b25ddc",
   "metadata": {},
   "outputs": [],
   "source": [
    "stat = np.load(r\"D:\\data_output\\recover data\\nat_mono_4Hz\\suite2p\\plane0\\F.npy\", allow_pickle = False)"
   ]
  },
  {
   "cell_type": "code",
   "execution_count": 18,
   "id": "eb68ca77-8a0b-48f2-bad7-10c141dc6af1",
   "metadata": {},
   "outputs": [
    {
     "data": {
      "text/plain": [
       "array([[-4866.1167, -4865.3394, -4866.5947, ..., -4863.6304, -4864.1978,\n",
       "        -4864.569 ],\n",
       "       [-4868.07  , -4864.4243, -4866.6357, ..., -4867.9697, -4863.664 ,\n",
       "        -4862.238 ],\n",
       "       [-4866.6543, -4866.467 , -4866.299 , ..., -4859.82  , -4859.4478,\n",
       "        -4860.59  ],\n",
       "       ...,\n",
       "       [-4865.8433, -4863.3755, -4864.2827, ..., -4866.37  , -4864.535 ,\n",
       "        -4862.09  ],\n",
       "       [-4865.1025, -4863.128 , -4857.696 , ..., -4863.7383, -4863.897 ,\n",
       "        -4861.9653],\n",
       "       [-4864.24  , -4863.281 , -4862.319 , ..., -4861.865 , -4861.6606,\n",
       "        -4861.777 ]], dtype=float32)"
      ]
     },
     "execution_count": 18,
     "metadata": {},
     "output_type": "execute_result"
    }
   ],
   "source": [
    "stat"
   ]
  },
  {
   "cell_type": "code",
   "execution_count": null,
   "id": "72e3b21b-9743-4dc9-935d-d97d8df1f6c6",
   "metadata": {},
   "outputs": [],
   "source": []
  }
 ],
 "metadata": {
  "kernelspec": {
   "display_name": "Python 3 (ipykernel)",
   "language": "python",
   "name": "python3"
  },
  "language_info": {
   "codemirror_mode": {
    "name": "ipython",
    "version": 3
   },
   "file_extension": ".py",
   "mimetype": "text/x-python",
   "name": "python",
   "nbconvert_exporter": "python",
   "pygments_lexer": "ipython3",
   "version": "3.9.7"
  }
 },
 "nbformat": 4,
 "nbformat_minor": 5
}
