{
 "cells": [
  {
   "cell_type": "code",
   "execution_count": 2,
   "id": "8678cfe4-7e34-459f-9e29-b0ca03c468f3",
   "metadata": {},
   "outputs": [
    {
     "ename": "SyntaxError",
     "evalue": "invalid syntax (Suite2me.py, line 112)",
     "output_type": "error",
     "traceback": [
      "Traceback \u001b[1;36m(most recent call last)\u001b[0m:\n",
      "  File \u001b[0;32m~\\miniconda3\\lib\\site-packages\\IPython\\core\\interactiveshell.py:3397\u001b[0m in \u001b[0;35mrun_code\u001b[0m\n    exec(code_obj, self.user_global_ns, self.user_ns)\n",
      "\u001b[1;36m  Input \u001b[1;32mIn [2]\u001b[1;36m in \u001b[1;35m<cell line: 6>\u001b[1;36m\u001b[0m\n\u001b[1;33m    import Suite2me\u001b[0m\n",
      "\u001b[1;36m  File \u001b[1;32m~\\OneDrive\\Universitet\\PhD\\GitHub repos\\twoPanalysis\\Suite2me.py:112\u001b[1;36m\u001b[0m\n\u001b[1;33m    if ops = None:\u001b[0m\n\u001b[1;37m           ^\u001b[0m\n\u001b[1;31mSyntaxError\u001b[0m\u001b[1;31m:\u001b[0m invalid syntax\n"
     ]
    }
   ],
   "source": [
    "import suite2p\n",
    "import pathlib\n",
    "import tifffile\n",
    "import numpy as np\n",
    "# Local imports\n",
    "import Suite2me\n",
    "import main\n",
    "import utilities\n",
    "import Import_Igor\n",
    "import pathlib\n",
    "import os\n",
    "\n",
    "# ipywidgets\n",
    "from __future__ import print_function\n",
    "from ipywidgets import interact, interactive, fixed, interact_manual, Button, HBox, VBox, Layout, Box, Label, interact, interactive, fixed, interact_manual\n",
    "from IPython.display import display\n",
    "import ipywidgets as widgets\n",
    "from ipyfilechooser import FileChooser"
   ]
  },
  {
   "cell_type": "code",
   "execution_count": 1,
   "id": "61241f9a-34d1-46f2-8a39-6312def167b1",
   "metadata": {
    "tags": []
   },
   "outputs": [
    {
     "ename": "NameError",
     "evalue": "name 'FileChooser' is not defined",
     "output_type": "error",
     "traceback": [
      "\u001b[1;31m---------------------------------------------------------------------------\u001b[0m",
      "\u001b[1;31mNameError\u001b[0m                                 Traceback (most recent call last)",
      "Input \u001b[1;32mIn [1]\u001b[0m, in \u001b[0;36m<cell line: 3>\u001b[1;34m()\u001b[0m\n\u001b[0;32m      1\u001b[0m \u001b[38;5;66;03m# Setup ipywidgets as needed\u001b[39;00m\n\u001b[0;32m      2\u001b[0m \u001b[38;5;66;03m## Input options\u001b[39;00m\n\u001b[1;32m----> 3\u001b[0m choose_input \u001b[38;5;241m=\u001b[39m \u001b[43mFileChooser\u001b[49m()\n\u001b[0;32m      4\u001b[0m choose_input\u001b[38;5;241m.\u001b[39mdefault_path \u001b[38;5;241m=\u001b[39m \u001b[38;5;124mr\u001b[39m\u001b[38;5;124m\"\u001b[39m\u001b[38;5;124mD:/data_input/\u001b[39m\u001b[38;5;124m\"\u001b[39m\n\u001b[0;32m      5\u001b[0m choose_input\u001b[38;5;241m.\u001b[39mtitle \u001b[38;5;241m=\u001b[39m \u001b[38;5;124m\"\u001b[39m\u001b[38;5;124m<b>Select input folder containing Igor files from experiments<b>\u001b[39m\u001b[38;5;124m\"\u001b[39m\n",
      "\u001b[1;31mNameError\u001b[0m: name 'FileChooser' is not defined"
     ]
    }
   ],
   "source": [
    "# Setup ipywidgets as needed\n",
    "## Input options\n",
    "choose_input = FileChooser()\n",
    "choose_input.default_path = r\"D:/data_input/\"\n",
    "choose_input.title = \"<b>Select input folder containing Igor files from experiments<b>\"\n",
    "choose_input.show_only_dirs = False\n",
    "choose_input._show_dialog()\n",
    "## Output options\n",
    "choose_output = FileChooser()\n",
    "choose_output.default_path = r\"D:/data_output/\"\n",
    "choose_output.title = \"<b>Select folder for analysis to output to<b>\"\n",
    "choose_output.show_only_dirs = False\n",
    "choose_output._show_dialog()\n",
    "## Textbox for cropping \n",
    "crop_box = widgets.BoundedFloatText(\n",
    "    value=126, # Work-around for noise in recording\n",
    "    min=0,\n",
    "    max=512,\n",
    "    step=1,\n",
    "    disabled=False,\n",
    "    description='Choose horizontal crop',\n",
    "    style = {'description_width': 'initial'},\n",
    "    layout = Layout(width='15%')\n",
    "                   # padding = '1px')\n",
    "                    # display='flex')\n",
    ")\n",
    "## Text box for naming new folder\n",
    "name_box = widgets.Text(\n",
    "    value='',\n",
    "    placeholder='Name new experiment folder',\n",
    "    description='Experiment name',\n",
    "    style = {'description_width': 'initial'},\n",
    "    disabled=False,\n",
    ")\n",
    "\n",
    "## Button for running analysis\n",
    "button = widgets.Button(\n",
    "    description='Run pipeline',\n",
    "    disabled=False,\n",
    "    button_style='', # 'success', 'info', 'warning', 'danger' or ''\n",
    "    tooltip='Executes analysis pipeline',\n",
    "    icon='check', # (FontAwesome names without the `fa-` prefix)\n",
    "    # layout = Layout(\n",
    "    #          display='flex')\n",
    ")\n",
    "\n",
    "## Text box for experiment notes\n",
    "notes_box = widgets.Textarea(\n",
    "    value='',\n",
    "    # placeholder='Type notes here',\n",
    "    placeholder='NOT CURRENTLY WORKING',\n",
    "    description='Experiment notes:',\n",
    "    style = {'description_width': 'initial'},\n",
    "    disabled=False,\n",
    "    layout = Layout(\n",
    "        height = '50px',\n",
    "        min_height = '25px',\n",
    "        width = '500px'\n",
    "        )\n",
    ")\n",
    "## Give container the right layout to be able to wrap\n",
    "Hbox_layout = Layout(\n",
    "                display = 'flex',\n",
    "                flex_flow = 'row wrap',\n",
    "                # flex_direction = 'row',\n",
    "                # flex='flex-shrink',\n",
    "                # flex_wrap = 'wrap',\n",
    "                justify_content = 'flex-start',\n",
    "                align_items = 'stretch')\n",
    "\n",
    "## Emsures correct parameters are set and then executes the rest!\n",
    "def verify_choice():\n",
    "    def run_scripts():\n",
    "        # This is the function that runs the data extraction pipeline:\n",
    "        print(input_folder)\n",
    "        print(output_folder)\n",
    "        utilities.data.gen_tiffs_from_igor(input_folder, output_folder, crop)\n",
    "        tiff_paths, trig_paths = utilities.file_handling.prep_file_hierarchy(output_folder)\n",
    "        Suite2me.extract_singleplane(input_folder, output_folder, crop)\n",
    "    if None in (choose_input.selected, choose_output.selected):\n",
    "        print(\"Inputs lacking\")\n",
    "    else:\n",
    "        input_folder = pathlib.Path(choose_input.selected)\n",
    "        output_folder = pathlib.Path(choose_output.selected).joinpath(name_box.value)\n",
    "        crop = int(crop_box.value)\n",
    "        print(f\"Are you sure you want to run pipeline on {input_folder} and output to {output_folder}?\")\n",
    "        interact_manual(run_scripts)"
   ]
  },
  {
   "cell_type": "code",
   "execution_count": 3,
   "id": "2b83eae2-9766-496c-a1a8-5089a8926933",
   "metadata": {
    "tags": []
   },
   "outputs": [
    {
     "data": {
      "application/vnd.jupyter.widget-view+json": {
       "model_id": "6c3d572eb43c4bba959a90bea974b3a3",
       "version_major": 2,
       "version_minor": 0
      },
      "text/plain": [
       "HBox(children=(FileChooser(path='D:\\data_input', filename='', title='<b>Select input folder containing Igor fi…"
      ]
     },
     "metadata": {},
     "output_type": "display_data"
    },
    {
     "data": {
      "application/vnd.jupyter.widget-view+json": {
       "model_id": "9d84497f77b34de88d686bcfb8696b94",
       "version_major": 2,
       "version_minor": 0
      },
      "text/plain": [
       "HBox(children=(Text(value='', description='Experiment name', placeholder='Name new experiment folder', style=D…"
      ]
     },
     "metadata": {},
     "output_type": "display_data"
    }
   ],
   "source": [
    "first_row = HBox([choose_input, choose_output, ], layout = Hbox_layout)\n",
    "second_row = HBox([name_box, crop_box, notes_box], layout = Hbox_layout)\n",
    "\n",
    "display(first_row, second_row)"
   ]
  },
  {
   "cell_type": "code",
   "execution_count": 4,
   "id": "7a3ec5d6-e40a-4b1c-b9ca-8a6cef074c4d",
   "metadata": {
    "scrolled": true,
    "tags": []
   },
   "outputs": [
    {
     "name": "stdout",
     "output_type": "stream",
     "text": [
      "Are you sure you want to run pipeline on D:\\data_input\\test_exp and output to D:\\data_output\\yoda?\n"
     ]
    },
    {
     "data": {
      "application/vnd.jupyter.widget-view+json": {
       "model_id": "0d7e64a57d4e446e92fa7d6943253e9e",
       "version_major": 2,
       "version_minor": 0
      },
      "text/plain": [
       "interactive(children=(Button(description='Run Interact', style=ButtonStyle()), Output()), _dom_classes=('widge…"
      ]
     },
     "metadata": {},
     "output_type": "display_data"
    }
   ],
   "source": [
    "verify_choice()"
   ]
  },
  {
   "cell_type": "markdown",
   "id": "99a42163-ac9a-43cc-9c15-07285e5ba8a3",
   "metadata": {},
   "source": [
    "TODO\n",
    "- [x] Make conditional run button \n",
    "- [x] Make a box that allows creation of a new folder --> Box just names the new folder and pathjoins that to choose_output!\n",
    "- [X] Make a Button that runs the pipeline only if all parameters have been selected, otherwise throws a warning\n",
    "- [X] Make a text box that allows you to pass notes for the experiments to the Pandas DataFrame\n"
   ]
  },
  {
   "cell_type": "code",
   "execution_count": 4,
   "id": "8743b39d-c3ee-4860-83d4-283d67399e89",
   "metadata": {},
   "outputs": [
    {
     "name": "stdout",
     "output_type": "stream",
     "text": [
      "Getting stack...\n",
      "Making note of old path: C:\\Users\\skrem\\OneDrive\\Universitet\\PhD\\GitHub repos\\twoPanalysis\n",
      "Changing path to: D:\\data_input\n",
      "Done\n",
      "Getting data from D:\\data_input\\test_exp\\nat_mono_2Hz_0.smh\n",
      "Data retrieved.\n",
      "Reading header...\n",
      "Header read.\n",
      "Converting to serialised data...\n",
      "Conversion complete.\n",
      "Reverting path.\n"
     ]
    },
    {
     "ename": "FileNotFoundError",
     "evalue": "[Errno 2] No such file or directory: 'D:\\\\data_output\\\\test_exp\\\\nat_mono_2Hz_0.tiff'",
     "output_type": "error",
     "traceback": [
      "\u001b[1;31m---------------------------------------------------------------------------\u001b[0m",
      "\u001b[1;31mFileNotFoundError\u001b[0m                         Traceback (most recent call last)",
      "Input \u001b[1;32mIn [4]\u001b[0m, in \u001b[0;36m<cell line: 4>\u001b[1;34m()\u001b[0m\n\u001b[0;32m      2\u001b[0m output_folder \u001b[38;5;241m=\u001b[39m pathlib\u001b[38;5;241m.\u001b[39mPath(\u001b[38;5;124mr\u001b[39m\u001b[38;5;124m\"\u001b[39m\u001b[38;5;124mD:\u001b[39m\u001b[38;5;124m\\\u001b[39m\u001b[38;5;124mdata_output\u001b[39m\u001b[38;5;124m\\\u001b[39m\u001b[38;5;124mtest_exp/\u001b[39m\u001b[38;5;124m\"\u001b[39m)\n\u001b[0;32m      3\u001b[0m crop \u001b[38;5;241m=\u001b[39m \u001b[38;5;241m126\u001b[39m\n\u001b[1;32m----> 4\u001b[0m \u001b[43mutilities\u001b[49m\u001b[38;5;241;43m.\u001b[39;49m\u001b[43mdata\u001b[49m\u001b[38;5;241;43m.\u001b[39;49m\u001b[43mgen_tiffs_from_igor\u001b[49m\u001b[43m(\u001b[49m\u001b[43minput_folder\u001b[49m\u001b[43m,\u001b[49m\u001b[43m \u001b[49m\u001b[43moutput_folder\u001b[49m\u001b[43m,\u001b[49m\u001b[43m \u001b[49m\u001b[43mcrop\u001b[49m\u001b[43m)\u001b[49m\n",
      "File \u001b[1;32m~\\OneDrive\\Universitet\\PhD\\GitHub repos\\twoPanalysis\\utilities.py:162\u001b[0m, in \u001b[0;36mdata.gen_tiffs_from_igor\u001b[1;34m(input_folder, output_folder, crop)\u001b[0m\n\u001b[0;32m    158\u001b[0m tiff_path \u001b[38;5;241m=\u001b[39m output_folder\u001b[38;5;241m.\u001b[39mjoinpath(\n\u001b[0;32m    159\u001b[0m     img_name)\u001b[38;5;241m.\u001b[39mwith_suffix(\u001b[38;5;124m\"\u001b[39m\u001b[38;5;124m.tiff\u001b[39m\u001b[38;5;124m\"\u001b[39m)\n\u001b[0;32m    160\u001b[0m trig_path \u001b[38;5;241m=\u001b[39m output_folder\u001b[38;5;241m.\u001b[39mjoinpath(\n\u001b[0;32m    161\u001b[0m     img_name)\u001b[38;5;241m.\u001b[39mwith_suffix(\u001b[38;5;124m\"\u001b[39m\u001b[38;5;124m.npy\u001b[39m\u001b[38;5;124m\"\u001b[39m)\n\u001b[1;32m--> 162\u001b[0m \u001b[43mtifffile\u001b[49m\u001b[38;5;241;43m.\u001b[39;49m\u001b[43mimwrite\u001b[49m\u001b[43m(\u001b[49m\u001b[43mtiff_path\u001b[49m\u001b[43m,\u001b[49m\u001b[43m \u001b[49m\u001b[43mimg_arr\u001b[49m\u001b[43m)\u001b[49m\n\u001b[0;32m    163\u001b[0m np\u001b[38;5;241m.\u001b[39msave(trig_path, trigger_trace)\n\u001b[0;32m    164\u001b[0m \u001b[38;5;28;01mdel\u001b[39;00m img, img_name, img_arr, trigger_arr, file\n",
      "File \u001b[1;32m~\\miniconda3\\lib\\site-packages\\tifffile\\tifffile.py:983\u001b[0m, in \u001b[0;36mimwrite\u001b[1;34m(file, data, shape, dtype, **kwargs)\u001b[0m\n\u001b[0;32m    980\u001b[0m \u001b[38;5;28;01mif\u001b[39;00m \u001b[38;5;124m'\u001b[39m\u001b[38;5;124mbyteorder\u001b[39m\u001b[38;5;124m'\u001b[39m \u001b[38;5;129;01mnot\u001b[39;00m \u001b[38;5;129;01min\u001b[39;00m tifargs:\n\u001b[0;32m    981\u001b[0m     tifargs[\u001b[38;5;124m'\u001b[39m\u001b[38;5;124mbyteorder\u001b[39m\u001b[38;5;124m'\u001b[39m] \u001b[38;5;241m=\u001b[39m byteorder\n\u001b[1;32m--> 983\u001b[0m \u001b[38;5;28;01mwith\u001b[39;00m TiffWriter(file, \u001b[38;5;241m*\u001b[39m\u001b[38;5;241m*\u001b[39mtifargs) \u001b[38;5;28;01mas\u001b[39;00m tif:\n\u001b[0;32m    984\u001b[0m     result \u001b[38;5;241m=\u001b[39m tif\u001b[38;5;241m.\u001b[39mwrite(data, shape, dtype, \u001b[38;5;241m*\u001b[39m\u001b[38;5;241m*\u001b[39mkwargs)\n\u001b[0;32m    985\u001b[0m \u001b[38;5;28;01mreturn\u001b[39;00m result\n",
      "File \u001b[1;32m~\\miniconda3\\lib\\site-packages\\tifffile\\tifffile.py:1233\u001b[0m, in \u001b[0;36mTiffWriter.__init__\u001b[1;34m(self, file, bigtiff, byteorder, append, imagej, ome)\u001b[0m\n\u001b[0;32m   1231\u001b[0m     \u001b[38;5;28mself\u001b[39m\u001b[38;5;241m.\u001b[39m_fh\u001b[38;5;241m.\u001b[39mseek(\u001b[38;5;241m0\u001b[39m, os\u001b[38;5;241m.\u001b[39mSEEK_END)\n\u001b[0;32m   1232\u001b[0m \u001b[38;5;28;01melse\u001b[39;00m:\n\u001b[1;32m-> 1233\u001b[0m     \u001b[38;5;28mself\u001b[39m\u001b[38;5;241m.\u001b[39m_fh \u001b[38;5;241m=\u001b[39m \u001b[43mFileHandle\u001b[49m\u001b[43m(\u001b[49m\u001b[43mfile\u001b[49m\u001b[43m,\u001b[49m\u001b[43m \u001b[49m\u001b[43mmode\u001b[49m\u001b[38;5;241;43m=\u001b[39;49m\u001b[38;5;124;43m'\u001b[39;49m\u001b[38;5;124;43mwb\u001b[39;49m\u001b[38;5;124;43m'\u001b[39;49m\u001b[43m,\u001b[49m\u001b[43m \u001b[49m\u001b[43msize\u001b[49m\u001b[38;5;241;43m=\u001b[39;49m\u001b[38;5;241;43m0\u001b[39;49m\u001b[43m)\u001b[49m\n\u001b[0;32m   1234\u001b[0m     \u001b[38;5;28mself\u001b[39m\u001b[38;5;241m.\u001b[39m_fh\u001b[38;5;241m.\u001b[39mwrite({\u001b[38;5;124m'\u001b[39m\u001b[38;5;124m<\u001b[39m\u001b[38;5;124m'\u001b[39m: \u001b[38;5;124mb\u001b[39m\u001b[38;5;124m'\u001b[39m\u001b[38;5;124mII\u001b[39m\u001b[38;5;124m'\u001b[39m, \u001b[38;5;124m'\u001b[39m\u001b[38;5;124m>\u001b[39m\u001b[38;5;124m'\u001b[39m: \u001b[38;5;124mb\u001b[39m\u001b[38;5;124m'\u001b[39m\u001b[38;5;124mMM\u001b[39m\u001b[38;5;124m'\u001b[39m}[byteorder])\n\u001b[0;32m   1235\u001b[0m     \u001b[38;5;28;01mif\u001b[39;00m bigtiff:\n",
      "File \u001b[1;32m~\\miniconda3\\lib\\site-packages\\tifffile\\tifffile.py:10536\u001b[0m, in \u001b[0;36mFileHandle.__init__\u001b[1;34m(self, file, mode, name, offset, size)\u001b[0m\n\u001b[0;32m  10534\u001b[0m \u001b[38;5;28mself\u001b[39m\u001b[38;5;241m.\u001b[39mis_file \u001b[38;5;241m=\u001b[39m \u001b[38;5;28;01mNone\u001b[39;00m\n\u001b[0;32m  10535\u001b[0m \u001b[38;5;28mself\u001b[39m\u001b[38;5;241m.\u001b[39m_lock \u001b[38;5;241m=\u001b[39m NullContext()\n\u001b[1;32m> 10536\u001b[0m \u001b[38;5;28;43mself\u001b[39;49m\u001b[38;5;241;43m.\u001b[39;49m\u001b[43mopen\u001b[49m\u001b[43m(\u001b[49m\u001b[43m)\u001b[49m\n",
      "File \u001b[1;32m~\\miniconda3\\lib\\site-packages\\tifffile\\tifffile.py:10549\u001b[0m, in \u001b[0;36mFileHandle.open\u001b[1;34m(self)\u001b[0m\n\u001b[0;32m  10547\u001b[0m \u001b[38;5;28mself\u001b[39m\u001b[38;5;241m.\u001b[39m_file \u001b[38;5;241m=\u001b[39m os\u001b[38;5;241m.\u001b[39mpath\u001b[38;5;241m.\u001b[39mrealpath(\u001b[38;5;28mself\u001b[39m\u001b[38;5;241m.\u001b[39m_file)\n\u001b[0;32m  10548\u001b[0m \u001b[38;5;28mself\u001b[39m\u001b[38;5;241m.\u001b[39m_dir, \u001b[38;5;28mself\u001b[39m\u001b[38;5;241m.\u001b[39m_name \u001b[38;5;241m=\u001b[39m os\u001b[38;5;241m.\u001b[39mpath\u001b[38;5;241m.\u001b[39msplit(\u001b[38;5;28mself\u001b[39m\u001b[38;5;241m.\u001b[39m_file)\n\u001b[1;32m> 10549\u001b[0m \u001b[38;5;28mself\u001b[39m\u001b[38;5;241m.\u001b[39m_fh \u001b[38;5;241m=\u001b[39m \u001b[38;5;28;43mopen\u001b[39;49m\u001b[43m(\u001b[49m\u001b[38;5;28;43mself\u001b[39;49m\u001b[38;5;241;43m.\u001b[39;49m\u001b[43m_file\u001b[49m\u001b[43m,\u001b[49m\u001b[43m \u001b[49m\u001b[38;5;28;43mself\u001b[39;49m\u001b[38;5;241;43m.\u001b[39;49m\u001b[43m_mode\u001b[49m\u001b[43m)\u001b[49m\n\u001b[0;32m  10550\u001b[0m \u001b[38;5;28mself\u001b[39m\u001b[38;5;241m.\u001b[39m_close \u001b[38;5;241m=\u001b[39m \u001b[38;5;28;01mTrue\u001b[39;00m\n\u001b[0;32m  10551\u001b[0m \u001b[38;5;28;01mif\u001b[39;00m \u001b[38;5;28mself\u001b[39m\u001b[38;5;241m.\u001b[39m_offset \u001b[38;5;129;01mis\u001b[39;00m \u001b[38;5;28;01mNone\u001b[39;00m:\n",
      "\u001b[1;31mFileNotFoundError\u001b[0m: [Errno 2] No such file or directory: 'D:\\\\data_output\\\\test_exp\\\\nat_mono_2Hz_0.tiff'"
     ]
    }
   ],
   "source": [
    "input_folder = pathlib.Path(r\"D:\\data_input\\test_exp/\")\n",
    "output_folder = pathlib.Path(r\"D:\\data_output\\test_exp/\")\n",
    "crop = 126\n",
    "utilities.data.gen_tiffs_from_igor(input_folder, output_folder, crop)"
   ]
  },
  {
   "cell_type": "code",
   "execution_count": null,
   "id": "824dbeae-8699-4ab4-a61e-40245425595e",
   "metadata": {},
   "outputs": [],
   "source": []
  },
  {
   "cell_type": "code",
   "execution_count": null,
   "id": "76154fb6-7784-4451-ad19-a85539b143dc",
   "metadata": {},
   "outputs": [],
   "source": []
  }
 ],
 "metadata": {
  "kernelspec": {
   "display_name": "Python 3 (ipykernel)",
   "language": "python",
   "name": "python3"
  },
  "language_info": {
   "codemirror_mode": {
    "name": "ipython",
    "version": 3
   },
   "file_extension": ".py",
   "mimetype": "text/x-python",
   "name": "python",
   "nbconvert_exporter": "python",
   "pygments_lexer": "ipython3",
   "version": "3.9.5"
  }
 },
 "nbformat": 4,
 "nbformat_minor": 5
}
